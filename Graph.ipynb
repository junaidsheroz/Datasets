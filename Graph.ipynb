{
  "nbformat": 4,
  "nbformat_minor": 0,
  "metadata": {
    "colab": {
      "provenance": [],
      "authorship_tag": "ABX9TyOU3WeZxfigzGLsn6wHFN5H",
      "include_colab_link": true
    },
    "kernelspec": {
      "name": "python3",
      "display_name": "Python 3"
    },
    "language_info": {
      "name": "python"
    }
  },
  "cells": [
    {
      "cell_type": "markdown",
      "metadata": {
        "id": "view-in-github",
        "colab_type": "text"
      },
      "source": [
        "<a href=\"https://colab.research.google.com/github/junaidsheroz/Datasets/blob/master/Graph.ipynb\" target=\"_parent\"><img src=\"https://colab.research.google.com/assets/colab-badge.svg\" alt=\"Open In Colab\"/></a>"
      ]
    },
    {
      "cell_type": "code",
      "execution_count": 1,
      "metadata": {
        "colab": {
          "base_uri": "https://localhost:8080/",
          "height": 248
        },
        "id": "7ZjwoY5opwJq",
        "outputId": "1d4a1742-4545-40e7-9399-45d911ac56d1"
      },
      "outputs": [
        {
          "output_type": "display_data",
          "data": {
            "text/plain": [
              "<Figure size 432x288 with 1 Axes>"
            ],
            "image/png": "[encoded data removed]"
          },
          "metadata": {}
        }
      ],
      "source": [
        "import networkx as nx\n",
        "import matplotlib.pyplot as plt\n",
        "\n",
        "class GraphVisualization:\n",
        "    def __init__(self):\n",
        "        self.visual =[]\n",
        "        \n",
        "    def addEdge(self,a,b):\n",
        "        temp = [a,b]\n",
        "        self.visual.append(temp)\n",
        "        \n",
        "    def visualize(self):\n",
        "        #initialise the graph method of netwrokx\n",
        "        G = nx.Graph()\n",
        "#         G = nx.DiGraph()\n",
        "        G.add_edges_from(self.visual)\n",
        "        nx.draw_networkx(G,node_size = 1800)\n",
        "        plt.show\n",
        "\n",
        "# creating the object of GraphVisualization\n",
        "G = GraphVisualization()\n",
        "G.addEdge(\"p\",\"q\")\n",
        "G.addEdge(\"p\",\"r\")\n",
        "G.addEdge(\"p\",\"s\")\n",
        "G.addEdge(\"r\",\"t\")\n",
        "G.addEdge(\"q\",\"p\")\n",
        "G.addEdge(\"q\",\"r\")\n",
        "G.addEdge(\"t\",\"r\")\n",
        "G.addEdge(\"s\",\"p\")\n",
        "G.visualize()\n"
      ]
    },
    {
      "cell_type": "code",
      "source": [],
      "metadata": {
        "id": "o3yilszfpzvs"
      },
      "execution_count": null,
      "outputs": []
    }
  ]
}
