{
  "cells": [
    {
      "cell_type": "markdown",
      "metadata": {
        "id": "view-in-github",
        "colab_type": "text"
      },
      "source": [
        "<a href=\"https://colab.research.google.com/github/junaidsheroz/Datasets/blob/master/CNN_Convolutional_Neural_Network_(1).ipynb\" target=\"_parent\"><img src=\"https://colab.research.google.com/assets/colab-badge.svg\" alt=\"Open In Colab\"/></a>"
      ]
    },
    {
      "cell_type": "code",
      "execution_count": null,
      "metadata": {
        "id": "Vt-0Q9Q-1bGY",
        "outputId": "a07ab377-b956-497b-e530-b0922a351392"
      },
      "outputs": [
        {
          "name": "stderr",
          "output_type": "stream",
          "text": [
            "Using TensorFlow backend.\n"
          ]
        }
      ],
      "source": [
        "# import keras Sequential module\n",
        "from keras.models import Sequential\n",
        "import tensorflow as tf"
      ]
    },
    {
      "cell_type": "code",
      "execution_count": null,
      "metadata": {
        "id": "742b4m7d1bGZ",
        "outputId": "519badd9-1390-4bfe-c6a8-0203684a6a61"
      },
      "outputs": [
        {
          "name": "stdout",
          "output_type": "stream",
          "text": [
            "2.1.0\n"
          ]
        }
      ],
      "source": [
        "# version of tensorflow\n",
        "print(tf.__version__)"
      ]
    },
    {
      "cell_type": "code",
      "execution_count": null,
      "metadata": {
        "id": "bUHRK5_R1bGa"
      },
      "outputs": [],
      "source": [
        "# Perform Image augmentation; Image data generator"
      ]
    },
    {
      "cell_type": "code",
      "execution_count": null,
      "metadata": {
        "id": "XoLNkKnU1bGa",
        "outputId": "79cb4532-feb1-4676-c7ef-cf2943453f34"
      },
      "outputs": [
        {
          "name": "stdout",
          "output_type": "stream",
          "text": [
            "Found 8000 images belonging to 2 classes.\n",
            "Found 2000 images belonging to 2 classes.\n"
          ]
        }
      ],
      "source": [
        "from keras.preprocessing.image import ImageDataGenerator\n",
        "train_datagen = ImageDataGenerator(\n",
        "        rescale=1./255,\n",
        "        shear_range=0.2,\n",
        "        zoom_range=0.2,\n",
        "        horizontal_flip=True)\n",
        "\n",
        "test_datagen = ImageDataGenerator(rescale=1./255)\n",
        "\n",
        "training_set  = train_datagen.flow_from_directory(\n",
        "        'd:/datasets/analytics/unstructured/training_set',\n",
        "        target_size=(64,64),\n",
        "        batch_size=32,\n",
        "        class_mode='binary')\n",
        "\n",
        "test_set = test_datagen.flow_from_directory(\n",
        "        'd:/datasets/analytics/unstructured/test_set',\n",
        "        target_size=(64,64),\n",
        "        batch_size=32,\n",
        "        class_mode='binary')\n"
      ]
    },
    {
      "cell_type": "code",
      "execution_count": null,
      "metadata": {
        "id": "EtmIpQfV1bGb"
      },
      "outputs": [],
      "source": [
        "# Building the Model\n",
        "\n",
        "# import the layers\n",
        "\n",
        "# import & initialize the model\n",
        "\n",
        "image_classifier = tf.keras.models.Sequential()"
      ]
    },
    {
      "cell_type": "code",
      "execution_count": null,
      "metadata": {
        "id": "10mlaex51bGb"
      },
      "outputs": [],
      "source": [
        "# Add the layers\n",
        "\n",
        "# first layer:  input + hidden (Convolution)\n",
        "\n",
        "image_classifier.add(tf.keras.layers.Conv2D(filters=32,kernel_size=3,input_shape=(64,64,3),activation='relu'))\n"
      ]
    },
    {
      "cell_type": "code",
      "execution_count": null,
      "metadata": {
        "id": "anG9NK011bGb"
      },
      "outputs": [],
      "source": [
        "# MaxPooling Layer\n",
        "image_classifier.add(tf.keras.layers.MaxPool2D(pool_size=2,strides=2))"
      ]
    },
    {
      "cell_type": "code",
      "execution_count": null,
      "metadata": {
        "id": "P0S_SQFB1bGb"
      },
      "outputs": [],
      "source": [
        "# Add Second. Conv. Layer & Maxpooling layer\n",
        "image_classifier.add(tf.keras.layers.Conv2D(filters=32,kernel_size=3,activation='relu'))\n",
        "# add Maxpooling layer\n",
        "image_classifier.add(tf.keras.layers.MaxPool2D(pool_size=2,strides=2))"
      ]
    },
    {
      "cell_type": "code",
      "execution_count": null,
      "metadata": {
        "id": "uCmicgkt1bGb"
      },
      "outputs": [],
      "source": [
        "# Flattening\n",
        "image_classifier.add(tf.keras.layers.Flatten())"
      ]
    },
    {
      "cell_type": "code",
      "execution_count": null,
      "metadata": {
        "id": "YCF2H-np1bGc"
      },
      "outputs": [],
      "source": [
        "# fully connected/ Dense  layers\n",
        "image_classifier.add(tf.keras.layers.Dense(units=128,activation='relu'))"
      ]
    },
    {
      "cell_type": "code",
      "execution_count": null,
      "metadata": {
        "id": "isnhJGo21bGc"
      },
      "outputs": [],
      "source": [
        "# the last layer ; output layer\n",
        "\n",
        "image_classifier.add(tf.keras.layers.Dense(units=1,activation='sigmoid'))\n",
        "# sigmoid for binary class classification"
      ]
    },
    {
      "cell_type": "code",
      "execution_count": null,
      "metadata": {
        "id": "VnrwHgq21bGc"
      },
      "outputs": [],
      "source": [
        "# Compile the Model:  optimzier?  loss function? \n",
        "\n",
        "image_classifier.compile(optimizer='adam',loss='binary_crossentropy',metrics=['accuracy'])\n"
      ]
    },
    {
      "cell_type": "code",
      "execution_count": null,
      "metadata": {
        "id": "GGfVVjq11bGc",
        "outputId": "f511a794-2c0a-4313-c0b2-c5e9c62b55ae"
      },
      "outputs": [
        {
          "name": "stdout",
          "output_type": "stream",
          "text": [
            "WARNING:tensorflow:sample_weight modes were coerced from\n",
            "  ...\n",
            "    to  \n",
            "  ['...']\n",
            "WARNING:tensorflow:sample_weight modes were coerced from\n",
            "  ...\n",
            "    to  \n",
            "  ['...']\n",
            "Train for 250 steps, validate for 63 steps\n",
            "Epoch 1/2\n",
            "250/250 [==============================] - 149s 598ms/step - loss: 0.6774 - accuracy: 0.5799 - val_loss: 0.6782 - val_accuracy: 0.5635\n",
            "Epoch 2/2\n",
            "250/250 [==============================] - 73s 292ms/step - loss: 0.6277 - accuracy: 0.6581 - val_loss: 0.6349 - val_accuracy: 0.6690\n"
          ]
        },
        {
          "data": {
            "text/plain": [
              "<tensorflow.python.keras.callbacks.History at 0x148dea08>"
            ]
          },
          "execution_count": 12,
          "metadata": {},
          "output_type": "execute_result"
        }
      ],
      "source": [
        "# Train the Model\n",
        "image_classifier.fit(x=training_set,validation_data=test_set,epochs=2)\n",
        "# 1 epoch = 1 iteration/loop over the entire dataset"
      ]
    },
    {
      "cell_type": "code",
      "execution_count": null,
      "metadata": {
        "id": "BeYpEDLN1bGc"
      },
      "outputs": [],
      "source": [
        "# Save the model\n",
        "image_classifier.save('d:/Models/imgclassifer.h5')"
      ]
    },
    {
      "cell_type": "code",
      "execution_count": null,
      "metadata": {
        "id": "DjAOUcPQ1bGc",
        "outputId": "ff6f0521-f780-49ad-c42f-299afa7a0825"
      },
      "outputs": [
        {
          "name": "stdout",
          "output_type": "stream",
          "text": [
            "Model: \"sequential\"\n",
            "_________________________________________________________________\n",
            "Layer (type)                 Output Shape              Param #   \n",
            "=================================================================\n",
            "conv2d (Conv2D)              (None, 62, 62, 32)        896       \n",
            "_________________________________________________________________\n",
            "max_pooling2d (MaxPooling2D) (None, 31, 31, 32)        0         \n",
            "_________________________________________________________________\n",
            "conv2d_1 (Conv2D)            (None, 29, 29, 32)        9248      \n",
            "_________________________________________________________________\n",
            "max_pooling2d_1 (MaxPooling2 (None, 14, 14, 32)        0         \n",
            "_________________________________________________________________\n",
            "flatten (Flatten)            (None, 6272)              0         \n",
            "_________________________________________________________________\n",
            "dense (Dense)                (None, 128)               802944    \n",
            "_________________________________________________________________\n",
            "dense_1 (Dense)              (None, 1)                 129       \n",
            "=================================================================\n",
            "Total params: 813,217\n",
            "Trainable params: 813,217\n",
            "Non-trainable params: 0\n",
            "_________________________________________________________________\n"
          ]
        }
      ],
      "source": [
        "image_classifier.summary()"
      ]
    },
    {
      "cell_type": "code",
      "execution_count": null,
      "metadata": {
        "id": "-AquzbVO1bGd"
      },
      "outputs": [],
      "source": [
        "# Single Image Prediction"
      ]
    },
    {
      "cell_type": "code",
      "execution_count": null,
      "metadata": {
        "id": "zbfimiYR1bGd"
      },
      "outputs": [],
      "source": [
        "import numpy as np"
      ]
    },
    {
      "cell_type": "code",
      "execution_count": null,
      "metadata": {
        "id": "qTJ9550E1bGd"
      },
      "outputs": [],
      "source": [
        "from keras.preprocessing import image"
      ]
    },
    {
      "cell_type": "code",
      "execution_count": null,
      "metadata": {
        "id": "3z96gIIR1bGd"
      },
      "outputs": [],
      "source": [
        "# load the image\n",
        "test_image = image.load_img('d:/datasets/analytics/unstructured/single_prediction/cat_or_dog_2.jpg',target_size=(64,64))\n",
        "# convert image into array\n",
        "\n",
        "test_image = image.img_to_array(test_image)\n",
        "# expand the dimension\n",
        "\n",
        "test_image = np.expand_dims(test_image,axis=0)\n"
      ]
    },
    {
      "cell_type": "code",
      "execution_count": null,
      "metadata": {
        "id": "ZE9b_7_V1bGd"
      },
      "outputs": [],
      "source": [
        "result = image_classifier.predict(test_image)"
      ]
    },
    {
      "cell_type": "code",
      "execution_count": null,
      "metadata": {
        "id": "bSR0RH9M1bGd",
        "outputId": "486c9b94-1b82-4f94-c796-594be4d5565f"
      },
      "outputs": [
        {
          "name": "stdout",
          "output_type": "stream",
          "text": [
            "[[0.99994457]]\n"
          ]
        }
      ],
      "source": [
        "print(result)"
      ]
    },
    {
      "cell_type": "code",
      "execution_count": null,
      "metadata": {
        "id": "uAGkFbc61bGd",
        "outputId": "f45711a8-338d-4dee-b827-3ac92f3b9114"
      },
      "outputs": [
        {
          "name": "stdout",
          "output_type": "stream",
          "text": [
            "cat\n"
          ]
        }
      ],
      "source": [
        "if result[0][0] == 1:\n",
        "    prediction = 'dog'\n",
        "else:\n",
        "    prediction = 'cat'\n",
        "\n",
        "print (prediction)"
      ]
    },
    {
      "cell_type": "code",
      "execution_count": null,
      "metadata": {
        "id": "GrEWUcPl1bGe"
      },
      "outputs": [],
      "source": []
    },
    {
      "cell_type": "code",
      "execution_count": null,
      "metadata": {
        "id": "Id_JmFVF1bGe"
      },
      "outputs": [],
      "source": []
    }
  ],
  "metadata": {
    "kernelspec": {
      "display_name": "Python 3",
      "language": "python",
      "name": "python3"
    },
    "language_info": {
      "codemirror_mode": {
        "name": "ipython",
        "version": 3
      },
      "file_extension": ".py",
      "mimetype": "text/x-python",
      "name": "python",
      "nbconvert_exporter": "python",
      "pygments_lexer": "ipython3",
      "version": "3.7.4"
    },
    "colab": {
      "provenance": [],
      "include_colab_link": true
    }
  },
  "nbformat": 4,
  "nbformat_minor": 0
}